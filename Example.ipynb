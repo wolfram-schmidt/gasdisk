{
 "cells": [
  {
   "cell_type": "code",
   "execution_count": null,
   "id": "173b7472",
   "metadata": {},
   "outputs": [],
   "source": [
    "import numpy as np\n",
    "import matplotlib.pyplot as plt\n",
    "\n",
    "from scipy.constants import parsec, G, k, m_p\n",
    "from astropy.constants import M_sun\n",
    "\n",
    "kpc = 1e3*parsec"
   ]
  },
  {
   "cell_type": "code",
   "execution_count": null,
   "id": "d0bedb56",
   "metadata": {},
   "outputs": [],
   "source": [
    "import gasdisk as gd"
   ]
  },
  {
   "cell_type": "markdown",
   "id": "936ca0aa",
   "metadata": {},
   "source": [
    "Create disk object with a gas mass of $10^{10}\\,M_\\odot$, scale length $r_\\mathrm{s}=3.5\\,\\mathrm{kpc}$, and $z_\\mathrm{s}=1\\,\\mathrm{kpc}$ (only used as start value for iteration):"
   ]
  },
  {
   "cell_type": "code",
   "execution_count": null,
   "id": "7b5531c4",
   "metadata": {},
   "outputs": [],
   "source": [
    "r_s, z_s = 3.5, 1\n",
    "\n",
    "galaxy = gd.GasDisk(1e10, r_s, z_s, mu=0.6)"
   ]
  },
  {
   "cell_type": "markdown",
   "id": "eb19fe4a",
   "metadata": {},
   "source": [
    "Create halo with virial mass $M_{200}=10^{10}\\,M_\\odot$, virial radius $r_\\mathrm{200}=211\\,\\mathrm{kpc}$ (determined from virial mass), and concentration parameter $c=12$:"
   ]
  },
  {
   "cell_type": "code",
   "execution_count": null,
   "id": "a6f246b3",
   "metadata": {},
   "outputs": [],
   "source": [
    "mass = 1e12\n",
    "\n",
    "galaxy.set_halo(mass, c=12, nfw=False)\n",
    "print(f\"\\nhalo scale = {galaxy.halo_scale/kpc:.1f} kpc\")\n",
    "print(f\"virial radius = {galaxy.halo_radius_vir/kpc:.1f} kpc\")\n",
    "print(f\"halo mass = {galaxy.halo_mass/M_sun.value:.2e} M_sun\")"
   ]
  },
  {
   "cell_type": "markdown",
   "id": "967e466b",
   "metadata": {},
   "source": [
    "Computed disk density and rotation curve and save tabulated data (pc and SI units) to file:"
   ]
  },
  {
   "cell_type": "code",
   "execution_count": null,
   "id": "01edcc62",
   "metadata": {},
   "outputs": [],
   "source": [
    "help(galaxy.compute)"
   ]
  },
  {
   "cell_type": "code",
   "execution_count": null,
   "id": "dc93436b",
   "metadata": {},
   "outputs": [],
   "source": [
    "galaxy.compute(15*r_s, 15*r_s, n_r=150, n_z=150)\n",
    "galaxy.save(\"example_disk.dat\", scaled=False)"
   ]
  },
  {
   "cell_type": "code",
   "execution_count": null,
   "id": "df05fc0a",
   "metadata": {},
   "outputs": [],
   "source": [
    "plt.plot(galaxy._mesh_r[0,:], 1e-3*galaxy._mesh_v_rot[0,:])\n",
    "\n",
    "plt.title(\"Rotation curve\")\n",
    "plt.xlabel(\"$r/r_{s}$\")\n",
    "plt.ylabel(\"$V_\\mathrm{rot}$ [km/s]\")\n",
    "  \n",
    "plt.show()"
   ]
  },
  {
   "cell_type": "markdown",
   "id": "413b6382",
   "metadata": {},
   "source": [
    "Generate and save particle initial conditions for dark matter halo:"
   ]
  },
  {
   "cell_type": "code",
   "execution_count": null,
   "id": "9106bea9",
   "metadata": {
    "scrolled": true
   },
   "outputs": [],
   "source": [
    "r, p, e = galaxy.generate_particles(1e4)"
   ]
  },
  {
   "cell_type": "code",
   "execution_count": null,
   "id": "58fd26f3",
   "metadata": {},
   "outputs": [],
   "source": [
    "galaxy.save_particles(\"example_halo\")"
   ]
  }
 ],
 "metadata": {
  "kernelspec": {
   "display_name": "Python 3 (ipykernel)",
   "language": "python",
   "name": "python3"
  },
  "language_info": {
   "codemirror_mode": {
    "name": "ipython",
    "version": 3
   },
   "file_extension": ".py",
   "mimetype": "text/x-python",
   "name": "python",
   "nbconvert_exporter": "python",
   "pygments_lexer": "ipython3",
   "version": "3.10.4"
  }
 },
 "nbformat": 4,
 "nbformat_minor": 5
}
